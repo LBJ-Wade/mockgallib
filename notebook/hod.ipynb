{
 "cells": [
  {
   "cell_type": "markdown",
   "metadata": {},
   "source": [
    "# HOD module\n",
    "\n",
    "`Hod` is the standard Halo Ocupation Distribution (HOD):\n",
    "$$\n",
    "  n_\\mathrm{cen}(M, z) = \\frac{1}{2} \\mathrm{erf} \\left[ \\frac{\\log_{10} M - \\log_{10} M_\\mathrm{min}}{\\sigma_{\\log M}} \\right]\n",
    "$$\n",
    "$$\n",
    "  n_\\mathrm{sat}(M, z) = \\left( \\frac{M - M_0}{M_1} \\right)^\\alpha\n",
    "$$\n",
    "\n",
    "The redshift dependence is characterised by polynomials,\n",
    "$$\n",
    "  \\log_{10} M_\\mathrm{min}(z) = c_0 + c_1 (z - z_0) + c_2 (z - z_0)^2 + c_3 (z - z_0)^3,\n",
    "$$\n",
    "where $z_0 = 0.5$ is an arbitray fiducial redshift. The result does not depend on the choise of $z_0$.\n",
    "\n",
    "$$\n",
    "  \\sigma_{\\log M}(z) = c_4 + c_5 (z - z_0)\n",
    "$$\n",
    "\n",
    "$$\n",
    "  M_0(z) = M_\\mathrm{min}(z)\n",
    "$$\n",
    "\n",
    "$$\n",
    "  \\log_{10} M_1(z) = c_6 + c_7 (z - z_0)\n",
    "$$\n",
    "\n",
    "$$\n",
    "  \\alpha(z) = c_8 + c_9 (z - z_0)\n",
    "$$\n",
    "\n",
    "### HOD object\n",
    "hod = **Hod**()\n",
    "\n",
    "Operation | Result\n",
    "---------------- | -------------\n",
    "len(hod)         | length of the HOD coefficients $c_i$\n",
    "hod[i]           | $i$th coefficient $c_i$\n",
    "hod.get_coef()       | an array of all coefficients $c$\n",
    "hod.set_coef(coef)    | set all coefficients to those in an array *coef*\n",
    "hod.logMmin(z)   |  $\\log_{10} M_\\mathrm{min}(z)$\n",
    "hod.sigma(z)     |  $\\sigma_{\\log M}(z)$\n",
    "hod.logM1(z)     | $\\log_{10} M_1(z)$\n",
    "hod.alpha(z)     | $\\alpha(z)$\n",
    "hod.ncen(M,z)    | probability of having a central galaxy\n",
    "hod.nsat(M,z)    | mean number of satellite galaxies if the halo has a central\n",
    "\n"
   ]
  },
  {
   "cell_type": "markdown",
   "metadata": {},
   "source": [
    "## Examples"
   ]
  },
  {
   "cell_type": "code",
   "execution_count": 1,
   "metadata": {
    "collapsed": false
   },
   "outputs": [
    {
     "data": {
      "text/plain": [
       "HOD coef= [12.0, 0.0, 2.0, 0.0, 0.1, 0.0, 15.0, 0.0, 1.5, 0.0]"
      ]
     },
     "execution_count": 1,
     "metadata": {},
     "output_type": "execute_result"
    }
   ],
   "source": [
    "%matplotlib inline\n",
    "import math\n",
    "import numpy as np\n",
    "import matplotlib.pyplot as plt\n",
    "import mockgallib as mock\n",
    "\n",
    "mock.cosmology_set(0.31) # set omega_m\n",
    "\n",
    "hod = mock.Hod()\n",
    "hod"
   ]
  },
  {
   "cell_type": "code",
   "execution_count": 7,
   "metadata": {
    "collapsed": false
   },
   "outputs": [
    {
     "name": "stdout",
     "output_type": "stream",
     "text": [
      "HOD coef= [11.5, 0.5, 0.0, 0.0, 1.0, 0.0, 13.0, 0.0, 1.5, 0.0]\n"
     ]
    },
    {
     "data": {
      "image/png": "[encoded data removed]",
      "text/plain": [
       "<matplotlib.figure.Figure at 0x10df97908>"
      ]
     },
     "metadata": {},
     "output_type": "display_data"
    }
   ],
   "source": [
    "# set coefficient\n",
    "hod.set_coef([12.0, 0.5, 0, 0, 1.0, 0.0, 13.0, 0.0, 1.5, 0.0])\n",
    "hod[0]= 11.5\n",
    "print(hod)\n",
    "\n",
    "# plot HOD parameters\n",
    "z = np.arange(0.4, 1.2, 0.01)\n",
    "logMmin = [hod.logMmin(zz) for zz in z]\n",
    "sigma = [hod.sigma(zz) for zz in z]\n",
    "logM1 = [hod.logM1(zz) for zz in z]\n",
    "alpha = [hod.alpha(zz) for zz in z]\n",
    "\n",
    "plt.plot(z, logMmin, 'r-', label='logMmin') \n",
    "plt.plot(z, sigma, 'r--', label='sigma')\n",
    "plt.plot(z, logM1, 'b-', label='logM1')\n",
    "plt.plot(z, alpha, 'b--', label='alpha')\n",
    "plt.xlabel('redshift $z$')\n",
    "plt.ylabel('HOD parameters')\n",
    "plt.legend(loc='center right')\n",
    "plt.show();"
   ]
  },
  {
   "cell_type": "code",
   "execution_count": 8,
   "metadata": {
    "collapsed": false
   },
   "outputs": [
    {
     "data": {
      "image/png": "[encoded data removed]",
      "text/plain": [
       "<matplotlib.figure.Figure at 0x10de6d438>"
      ]
     },
     "metadata": {},
     "output_type": "display_data"
    }
   ],
   "source": [
    "z = 0.5\n",
    "logMmin = 10\n",
    "logMmax = 16\n",
    "M = np.exp(np.arange(10, 15, 0.1)*math.log(10))\n",
    "\n",
    "ncen = [hod.ncen(MM, z) for MM in M]\n",
    "nsat = [hod.nsat(MM, z) for MM in M]\n",
    "\n",
    "plt.plot(M, ncen, 'r-', label='ncen') \n",
    "plt.plot(M, nsat, 'b--', label='nsat')\n",
    "plt.xlabel('Halo mass $M$')\n",
    "plt.ylabel('number of HOD galaxies in a halo')\n",
    "plt.xscale('log')\n",
    "plt.yscale('log')\n",
    "plt.legend(loc='upper left')\n",
    "plt.show();"
   ]
  },
  {
   "cell_type": "code",
   "execution_count": 2,
   "metadata": {
    "collapsed": false
   },
   "outputs": [
    {
     "data": {
      "text/html": [
       "<style>table {float:left}</style>"
      ],
      "text/plain": [
       "<IPython.core.display.HTML object>"
      ]
     },
     "metadata": {},
     "output_type": "display_data"
    }
   ],
   "source": [
    "%%html\n",
    "<style>table {float:left}</style>"
   ]
  }
 ],
 "metadata": {
  "kernelspec": {
   "display_name": "Python 3",
   "language": "python",
   "name": "python3"
  },
  "language_info": {
   "codemirror_mode": {
    "name": "ipython",
    "version": 3
   },
   "file_extension": ".py",
   "mimetype": "text/x-python",
   "name": "python",
   "nbconvert_exporter": "python",
   "pygments_lexer": "ipython3",
   "version": "3.5.1"
  }
 },
 "nbformat": 4,
 "nbformat_minor": 0
}
