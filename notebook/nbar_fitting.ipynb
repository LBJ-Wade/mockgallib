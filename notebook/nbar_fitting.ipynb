{
 "cells": [
  {
   "cell_type": "markdown",
   "metadata": {},
   "source": [
    "# nbar fitting\n",
    "\n",
    "```\n",
    "mock.NbarFitting(ps, hod, nbar_obs, z_min, z_max)\n",
    "```\n",
    "\n",
    "- `nbar_obs` is an array of `z, nbar` or `z, nbar, dnbar` with error"
   ]
  },
  {
   "cell_type": "code",
   "execution_count": 6,
   "metadata": {
    "collapsed": false
   },
   "outputs": [
    {
     "name": "stdout",
     "output_type": "stream",
     "text": [
      "number of iteration: 120\n",
      "chi2 = 6.191e-02\n",
      "HOD coef= [11.304616495342396, 0.38175648019860636, 2.5863094763366377, -0.07877664045420854, 0.1, 0.0, 15.0, 0.0, 1.5, 0.0]\n"
     ]
    }
   ],
   "source": [
    "%matplotlib inline\n",
    "import numpy as np\n",
    "import matplotlib.pyplot as plt\n",
    "import mockgallib as mock\n",
    "\n",
    "mock.set_loglevel(2)\n",
    "mock.cosmology_set(0.31) # set omega_m\n",
    "ps = mock.PowerSpectrum('../data/planck1_matterpower.dat') # power spectrum is required to compute mass function\n",
    "hod = mock.Hod()\n",
    "\n",
    "# The target of fitting\n",
    "nbar_obs= np.loadtxt('../data/nbar_vipers.txt', delimiter=' ')\n",
    "\n",
    "fitting= mock.NbarFitting(ps, hod, nbar_obs, 0.6, 1.2)\n",
    "fitting.fit()\n",
    "\n",
    "print(\"number of iteration: %d\" % fitting.iter)\n",
    "print(\"chi2 = %.3e\" % fitting.chi2)\n",
    "print(hod)"
   ]
  },
  {
   "cell_type": "markdown",
   "metadata": {},
   "source": [
    "- `fitting.z`: redshifts of the data\n",
    "- `fitting.nbar_obs`: input nbar\n",
    "- `fitting.nbar_hod`: best-fitting HOD number density"
   ]
  },
  {
   "cell_type": "code",
   "execution_count": 4,
   "metadata": {
    "collapsed": false
   },
   "outputs": [
    {
     "data": {
      "image/png": "[encoded data removed]",
      "text/plain": [
       "<matplotlib.figure.Figure at 0x10e47ca90>"
      ]
     },
     "metadata": {},
     "output_type": "display_data"
    }
   ],
   "source": [
    "plt.plot(nbar_obs[:,0], nbar_obs[:,1], 'b-', label='target nbar');\n",
    "plt.plot(fitting.z, fitting.nbar_hod, 'r+', label='hod nbar');\n",
    "\n",
    "plt.xlim([0.4, 1.2])\n",
    "plt.xlabel('$z$')\n",
    "plt.ylabel('$\\\\bar{n}$')\n",
    "plt.legend()\n",
    "plt.show();"
   ]
  },
  {
   "cell_type": "code",
   "execution_count": null,
   "metadata": {
    "collapsed": true
   },
   "outputs": [],
   "source": []
  }
 ],
 "metadata": {
  "kernelspec": {
   "display_name": "Python 3",
   "language": "python",
   "name": "python3"
  },
  "language_info": {
   "codemirror_mode": {
    "name": "ipython",
    "version": 3
   },
   "file_extension": ".py",
   "mimetype": "text/x-python",
   "name": "python",
   "nbconvert_exporter": "python",
   "pygments_lexer": "ipython3",
   "version": "3.5.1"
  }
 },
 "nbformat": 4,
 "nbformat_minor": 0
}
