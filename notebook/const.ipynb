{
 "cells": [
  {
   "cell_type": "markdown",
   "metadata": {},
   "source": [
    "# Const: Constants in intenal unit\n",
    "- Length: $h^{-1} \\mathrm{Mpc}$\n",
    "- Velocity: $\\mathrm{km}\\, \\mathrm{s}^{-1}$\n",
    "- Hubble constant: $100 \\, \\mathrm{km} \\,\\mathrm{s}^{-1}/(h^{-1} \\mathrm{Mpc})$"
   ]
  },
  {
   "cell_type": "code",
   "execution_count": 1,
   "metadata": {
    "collapsed": false
   },
   "outputs": [
    {
     "data": {
      "text/plain": [
       "Constants in internal unit:\n",
       "  G          = 4.3007e-09\n",
       "  rho_crit_0 = 2.7755e+11"
      ]
     },
     "execution_count": 1,
     "metadata": {},
     "output_type": "execute_result"
    }
   ],
   "source": [
    "import mockgallib as mock\n",
    "const= mock.Const()\n",
    "const"
   ]
  },
  {
   "cell_type": "code",
   "execution_count": 4,
   "metadata": {
    "collapsed": false
   },
   "outputs": [
    {
     "name": "stdout",
     "output_type": "stream",
     "text": [
      "4.3007e-09\n",
      "2.7755e+11\n"
     ]
    }
   ],
   "source": [
    "print(\"%.4e\" %const.G)\n",
    "print(\"%.4e\" % const.rho_crit_0)"
   ]
  },
  {
   "cell_type": "code",
   "execution_count": null,
   "metadata": {
    "collapsed": true
   },
   "outputs": [],
   "source": []
  }
 ],
 "metadata": {
  "kernelspec": {
   "display_name": "Python 3",
   "language": "python",
   "name": "python3"
  },
  "language_info": {
   "codemirror_mode": {
    "name": "ipython",
    "version": 3
   },
   "file_extension": ".py",
   "mimetype": "text/x-python",
   "name": "python",
   "nbconvert_exporter": "python",
   "pygments_lexer": "ipython3",
   "version": "3.5.1"
  }
 },
 "nbformat": 4,
 "nbformat_minor": 0
}
