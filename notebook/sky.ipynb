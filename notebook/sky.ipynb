{
 "cells": [
  {
   "cell_type": "markdown",
   "metadata": {},
   "source": [
    "# Sky\n",
    "\n",
    "sky = **Sky**(*ra_range*, *dec_range*, *z_range*)\n",
    "\n",
    "Function  | Result\n",
    "------------ | -------------\n",
    "sky.boxsize | Tuple $\\in \\mathbb(R)^3$; size of bounding box of the volume in the sky\n",
    "sky.left    | Tuple $\\in \\mathbb(R)^3$; left-bottom corner of the bounding box\n",
    "sky.right   | Tuple $\\in \\mathbb(R)^3$; upper-right corner of the bounding box"
   ]
  },
  {
   "cell_type": "code",
   "execution_count": 6,
   "metadata": {
    "collapsed": false
   },
   "outputs": [],
   "source": [
    "import numpy as np\n",
    "import matplotlib.pyplot as plt\n",
    "from mpl_toolkits.mplot3d import Axes3D\n",
    "import mockgallib as mock"
   ]
  },
  {
   "cell_type": "code",
   "execution_count": 5,
   "metadata": {
    "collapsed": false
   },
   "outputs": [
    {
     "name": "stdout",
     "output_type": "stream",
     "text": [
      "Close the window to continue.\n"
     ]
    }
   ],
   "source": [
    "# Sky\n",
    "ra_range  = [30.1, 38.9]\n",
    "dec_range = [-6.0, -4.1]\n",
    "z_range   = [0.38889, 1.21239]\n",
    "sky = mock.Sky(ra_range, dec_range, z_range)\n",
    "r_range   = sky.r;\n",
    "\n",
    "fig = plt.figure()\n",
    "ax = fig.add_subplot(111, projection='3d')\n",
    "\n",
    "n = 20\n",
    "ras  = np.linspace(ra_range[0], ra_range[1], n)\n",
    "decs = np.linspace(dec_range[0], dec_range[1], n)\n",
    "rs   = np.linspace(r_range[0], r_range[1], 2)\n",
    "\n",
    "\n",
    "def draw_line(r_list, ra_list, dec_list):\n",
    "    x3 = [ sky.compute_x(r, ra, dec) for r in r_list for ra in ra_list for dec in dec_list ]\n",
    "\n",
    "    x = [ x_ for (x_, y_, z_) in x3 ]\n",
    "    y = [ y_ for (x_, y_, z_) in x3 ]\n",
    "    z = [ z_ for (x_, y_, z_) in x3 ]\n",
    "    \n",
    "    ax.plot(x,y,z, color='red')\n",
    "\n",
    "draw_line([r_range[0]], ras, [dec_range[0]])\n",
    "draw_line([r_range[0]], ras, [dec_range[1]])\n",
    "draw_line([r_range[1]], ras, [dec_range[0]])\n",
    "draw_line([r_range[1]], ras, [dec_range[1]])\n",
    "\n",
    "draw_line([r_range[0]], [ra_range[0]], decs)\n",
    "draw_line([r_range[0]], [ra_range[1]], decs)\n",
    "draw_line([r_range[1]], [ra_range[0]], decs)\n",
    "draw_line([r_range[1]], [ra_range[1]], decs)\n",
    "\n",
    "draw_line(rs, [ra_range[0]], [dec_range[0]])\n",
    "draw_line(rs, [ra_range[1]], [dec_range[0]])\n",
    "draw_line(rs, [ra_range[0]], [dec_range[1]])\n",
    "draw_line(rs, [ra_range[1]], [dec_range[1]])\n",
    "\n",
    "print('Close the window to continue.')\n",
    "plt.show();\n"
   ]
  },
  {
   "cell_type": "code",
   "execution_count": 1,
   "metadata": {
    "collapsed": false
   },
   "outputs": [
    {
     "data": {
      "text/html": [
       "<style>table {float:left}</style>"
      ],
      "text/plain": [
       "<IPython.core.display.HTML object>"
      ]
     },
     "metadata": {},
     "output_type": "display_data"
    }
   ],
   "source": [
    "%%html\n",
    "<style>table {float:left}</style>"
   ]
  }
 ],
 "metadata": {
  "kernelspec": {
   "display_name": "Python 3",
   "language": "python",
   "name": "python3"
  },
  "language_info": {
   "codemirror_mode": {
    "name": "ipython",
    "version": 3
   },
   "file_extension": ".py",
   "mimetype": "text/x-python",
   "name": "python",
   "nbconvert_exporter": "python",
   "pygments_lexer": "ipython3",
   "version": "3.5.1"
  }
 },
 "nbformat": 4,
 "nbformat_minor": 0
}
