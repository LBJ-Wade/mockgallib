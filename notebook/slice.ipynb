{
 "cells": [
  {
   "cell_type": "markdown",
   "metadata": {},
   "source": [
    "# Slice\n",
    "\n",
    "slice = **Slice**(*remap*, *sky*)\n",
    "\n",
    "Remapped cuboid *remap* is sliced to fit multiple *sky* volumes in the cuboid.\n",
    "\n",
    "Method        | Result\n",
    "------------  | -------------\n",
    "slice.boxsize | Tuple $\\in \\mathbb(R)^3$; size of the sliced box\n"
   ]
  },
  {
   "cell_type": "code",
   "execution_count": 9,
   "metadata": {
    "collapsed": false
   },
   "outputs": [
    {
     "name": "stdout",
     "output_type": "stream",
     "text": [
      "3 slices of size (1800.0, 447.213623046875, 89.44271850585938), \n",
      "fits in a cuboid of size (1800.0, 447.213623046875, 268.3281555175781)\n",
      "where, each sky fits within size (1597.3975830078125, 406.0537414550781, 87.97805786132812)\n"
     ]
    }
   ],
   "source": [
    "import mockgallib as mock\n",
    "\n",
    "# remap\n",
    "u =  [2, 2, 1, 1, 0, 0, 0, 1, 0]\n",
    "boxsize = 600.0\n",
    "remap = mock.Remap(u, boxsize)\n",
    "\n",
    "# sky\n",
    "ra_range  = [30.1, 38.9]\n",
    "dec_range = [-6.0, -4.1]\n",
    "z_range   = [0.38889, 1.21239]\n",
    "sky = mock.Sky(ra_range, dec_range, z_range)\n",
    "\n",
    "# slice\n",
    "slice = mock.Slice(remap, sky)\n",
    "\n",
    "print('{} slices of size {}, '.format(len(slice), slice.boxsize))\n",
    "print('fits in a cuboid of size {}'.format(remap.boxsize))\n",
    "print('where, each sky fits within size {}'.format(sky.boxsize))\n"
   ]
  },
  {
   "cell_type": "code",
   "execution_count": 10,
   "metadata": {
    "collapsed": false
   },
   "outputs": [
    {
     "data": {
      "text/html": [
       "<style>table {float:left}</style>"
      ],
      "text/plain": [
       "<IPython.core.display.HTML object>"
      ]
     },
     "metadata": {},
     "output_type": "display_data"
    }
   ],
   "source": [
    "%%html\n",
    "<style>table {float:left}</style>"
   ]
  }
 ],
 "metadata": {
  "kernelspec": {
   "display_name": "Python 3",
   "language": "python",
   "name": "python3"
  },
  "language_info": {
   "codemirror_mode": {
    "name": "ipython",
    "version": 3
   },
   "file_extension": ".py",
   "mimetype": "text/x-python",
   "name": "python",
   "nbconvert_exporter": "python",
   "pygments_lexer": "ipython3",
   "version": "3.5.1"
  }
 },
 "nbformat": 4,
 "nbformat_minor": 0
}
