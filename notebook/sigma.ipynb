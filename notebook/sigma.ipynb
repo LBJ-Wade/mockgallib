{
 "cells": [
  {
   "cell_type": "markdown",
   "metadata": {},
   "source": [
    "# Sigma module\n",
    "\n",
    "Computes an amplitude of density fluctuation smoothed on a mass scale $M \\, [h^{-1}\\mathrm{M_\\odot}]$,\n",
    "$$\n",
    "  \\sigma_0^2(M) = \\frac{1}{2\\pi^2} \\int_0^\\infty W^2(k; M) P(k) dk.\n",
    "$$\n",
    "Amplitude (redshift) of $\\sigma_0$ is that of the power spectrum (usually at $z=0$).\n",
    "\n",
    "s = **Sigma**(*PowerSpectrum*)\n",
    "\n",
    "1000 pairs of (*M*, 1/*sigma*) are computed in a mass range ($10^{10}$, $10^{16}$), and values in between are computed by spline interpolation.\n",
    "\n",
    "Operation | Result\n",
    "------------ | -------------\n",
    "s(M)         | $\\sigma_0(M)$\n",
    "s.inv(sigma) | inverse function $\\sigma^{-1}(\\sigma) = M$\n",
    "len(s)       | length of the (*M*, *sigma*) data computed for interpolation\n",
    "s[i]         | *i*th pair of (*M*, *sigma*) data\n",
    "s.M          | array of *M* data\n",
    "s.sinv       | array of 1/*sigma*\n",
    "s.M_range    | range of *M* available for interpolation\n",
    "s.sigma0_range| range of *sigma* available for interpolation"
   ]
  },
  {
   "cell_type": "markdown",
   "metadata": {},
   "source": [
    "## Examples"
   ]
  },
  {
   "cell_type": "code",
   "execution_count": 11,
   "metadata": {
    "collapsed": false
   },
   "outputs": [
    {
     "data": {
      "text/plain": [
       "M Sigma\n",
       " 7.943e+09  3.839e+00\n",
       " 8.059e+09  3.834e+00\n",
       " 8.176e+09  3.828e+00\n",
       " 8.294e+09  3.822e+00\n",
       " 8.415e+09  3.817e+00\n",
       "......\n",
       " 1.445e+16  2.390e-01"
      ]
     },
     "execution_count": 11,
     "metadata": {},
     "output_type": "execute_result"
    }
   ],
   "source": [
    "%matplotlib inline\n",
    "import numpy as np\n",
    "import matplotlib.pyplot as plt\n",
    "import mockgallib as mock\n",
    "\n",
    "mock.cosmology_set(0.31) # set omega_m\n",
    "ps = mock.PowerSpectrum('../data/planck1_matterpower.dat')\n",
    "\n",
    "sigma = mock.Sigma(ps)\n",
    "\n",
    "sigma"
   ]
  },
  {
   "cell_type": "code",
   "execution_count": 8,
   "metadata": {
    "collapsed": false
   },
   "outputs": [
    {
     "name": "stdout",
     "output_type": "stream",
     "text": [
      "1001\n",
      "M range: 1.00e+10 1.00e+16\n",
      "sigma range: 3.7490 0.2708\n"
     ]
    }
   ],
   "source": [
    "print(len(sigma))\n",
    "print(\"M range: %.2e %.2e\" % sigma.M_range)\n",
    "print(\"sigma range: %.4f %.4f\" % sigma.sigma0_range)\n"
   ]
  },
  {
   "cell_type": "markdown",
   "metadata": {},
   "source": [
    "Sigma module computes $\\sigma$ in the range `sigma.M_range` for `len(sigma) = 1001` points with logarithmic spacing."
   ]
  },
  {
   "cell_type": "code",
   "execution_count": 17,
   "metadata": {
    "collapsed": false
   },
   "outputs": [
    {
     "data": {
      "image/png": "[encoded data removed]",
      "text/plain": [
       "<matplotlib.figure.Figure at 0x113c0c550>"
      ]
     },
     "metadata": {},
     "output_type": "display_data"
    }
   ],
   "source": [
    "M = sigma.M               # array of M\n",
    "s = 1.0/sigma.sinv        # array of sigma(M)\n",
    "\n",
    "plt.xscale('log')\n",
    "plt.xlabel('$M$')\n",
    "plt.ylabel('$\\\\sigma$')\n",
    "\n",
    "plt.plot(M, s, 'r-')\n",
    "\n",
    "# s.sigma0(M) computes sigma0 for M in M_range using spline interpolation\n",
    "M = np.power(10.0, np.arange(10.0, 17.0, 1.0))\n",
    "s = [sigma(mm) for mm in M]\n",
    "plt.plot(M, s, 'x')\n",
    "\n",
    "# s.mass(sigma0) computes the inverse function in sigma_range using spline interpolation\n",
    "s = np.arange(0.5, 4.0, 0.5)\n",
    "M = [sigma.inv(ss) for ss in s]\n",
    "plt.plot(M, s, '*');\n"
   ]
  },
  {
   "cell_type": "code",
   "execution_count": 1,
   "metadata": {
    "collapsed": false
   },
   "outputs": [
    {
     "data": {
      "text/html": [
       "<style>\n",
       "table {float:left}\n",
       "</style>"
      ],
      "text/plain": [
       "<IPython.core.display.HTML object>"
      ]
     },
     "metadata": {},
     "output_type": "display_data"
    }
   ],
   "source": [
    "%%html\n",
    "<style>\n",
    "table {float:left}\n",
    "</style>"
   ]
  }
 ],
 "metadata": {
  "kernelspec": {
   "display_name": "Python 3",
   "language": "python",
   "name": "python3"
  },
  "language_info": {
   "codemirror_mode": {
    "name": "ipython",
    "version": 3
   },
   "file_extension": ".py",
   "mimetype": "text/x-python",
   "name": "python",
   "nbconvert_exporter": "python",
   "pygments_lexer": "ipython3",
   "version": "3.5.1"
  }
 },
 "nbformat": 4,
 "nbformat_minor": 0
}
