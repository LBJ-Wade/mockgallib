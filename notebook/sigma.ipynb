{
 "cells": [
  {
   "cell_type": "markdown",
   "metadata": {},
   "source": [
    "# Sigma module\n",
    "\n",
    "Computes amplitudes of density fluctuation smoothed on mass scale $M$,\n",
    "$$\n",
    "  \\sigma^2(M) = \\frac{1}{2\\pi^2} \\int_0^\\infty W^2(k; M) P(k) dk\n",
    "$$"
   ]
  },
  {
   "cell_type": "code",
   "execution_count": 1,
   "metadata": {
    "collapsed": false
   },
   "outputs": [
    {
     "data": {
      "text/plain": [
       "M Sigma\n",
       " 7.943e+09  3.826e+00\n",
       " 8.059e+09  3.821e+00\n",
       " 8.176e+09  3.815e+00\n",
       " 8.294e+09  3.809e+00\n",
       " 8.415e+09  3.804e+00\n",
       "......\n",
       " 1.445e+16  2.363e-01"
      ]
     },
     "execution_count": 1,
     "metadata": {},
     "output_type": "execute_result"
    }
   ],
   "source": [
    "%matplotlib inline\n",
    "import numpy as np\n",
    "import matplotlib.pyplot as plt\n",
    "import mockgallib as mock\n",
    "\n",
    "ps = mock.PowerSpectrum('../data/planck1_matterpower.dat')\n",
    "s = mock.Sigma(ps)\n",
    "\n",
    "s"
   ]
  },
  {
   "cell_type": "code",
   "execution_count": 2,
   "metadata": {
    "collapsed": false
   },
   "outputs": [
    {
     "name": "stdout",
     "output_type": "stream",
     "text": [
      "1001\n",
      "M range: 1.00e+10 1.00e+16\n",
      "sigma range: 3.7362 0.2679\n"
     ]
    }
   ],
   "source": [
    "print(len(s))\n",
    "print(\"M range: %.2e %.2e\" % s.M_range)\n",
    "print(\"sigma range: %.4f %.4f\" % s.sigma0_range)\n"
   ]
  },
  {
   "cell_type": "code",
   "execution_count": 8,
   "metadata": {
    "collapsed": false
   },
   "outputs": [
    {
     "data": {
      "text/plain": [
       "[<matplotlib.lines.Line2D at 0x113dae7f0>]"
      ]
     },
     "execution_count": 8,
     "metadata": {},
     "output_type": "execute_result"
    },
    {
     "data": {
      "image/png": "[encoded data removed]",
      "text/plain": [
       "<matplotlib.figure.Figure at 0x113de9198>"
      ]
     },
     "metadata": {},
     "output_type": "display_data"
    }
   ],
   "source": [
    "M = s.M               # array of M\n",
    "sigma = 1.0/s.sinv    # array of sigma(M)\n",
    "\n",
    "plt.xscale('log')\n",
    "plt.xlabel('$M$')\n",
    "plt.ylabel('$\\\\sigma$')\n",
    "\n",
    "plt.plot(M, sigma, 'r-')\n",
    "\n",
    "# s.sigma0(M) computes sigma0 for M in M_range using spline interpolation\n",
    "M = np.power(10.0, np.arange(10.0, 17.0, 1.0))\n",
    "sigma = [s.sigma0(mm) for mm in M]\n",
    "plt.plot(M, sigma, 'x')\n",
    "\n",
    "# s.mass(sigma0) computes the inverse function in sigma_range using spline interpolation\n",
    "sigma = np.arange(0.5, 4.0, 0.5)\n",
    "M = [s.mass(ss) for ss in sigma]\n",
    "plt.plot(M, sigma, '*')\n",
    "\n"
   ]
  },
  {
   "cell_type": "code",
   "execution_count": null,
   "metadata": {
    "collapsed": true
   },
   "outputs": [],
   "source": []
  }
 ],
 "metadata": {
  "kernelspec": {
   "display_name": "Python 3",
   "language": "python",
   "name": "python3"
  },
  "language_info": {
   "codemirror_mode": {
    "name": "ipython",
    "version": 3
   },
   "file_extension": ".py",
   "mimetype": "text/x-python",
   "name": "python",
   "nbconvert_exporter": "python",
   "pygments_lexer": "ipython3",
   "version": "3.5.1"
  }
 },
 "nbformat": 4,
 "nbformat_minor": 0
}
