{
 "cells": [
  {
   "cell_type": "markdown",
   "metadata": {},
   "source": [
    "# Distance module\n",
    "\n",
    "Looks up redshift corresponds to comoving distance *d*. A spline interpolation is setup up to redshift $z_\\mathrm{max}$.\n",
    "\n",
    "**distance** = Distance(*z_max*)\n",
    "\n",
    "Operation | Result\n",
    "------------ | -------------\n",
    "distance.z_max | z_max given in the initialisation\n",
    "distance.d_max | maximum *d* usable for distance.redshift(*d*)\n",
    "distance.redshift(*d*) | redshift coresponds to comoving distance $d$"
   ]
  },
  {
   "cell_type": "code",
   "execution_count": 1,
   "metadata": {
    "collapsed": false
   },
   "outputs": [
    {
     "data": {
      "text/plain": [
       "distance redshift lookup zmax= 1.5000"
      ]
     },
     "execution_count": 1,
     "metadata": {},
     "output_type": "execute_result"
    }
   ],
   "source": [
    "%matplotlib inline\n",
    "import numpy as np\n",
    "import matplotlib.pyplot as plt\n",
    "import mockgallib as mock\n",
    "\n",
    "mock.cosmology_set(0.31) # set omega_m\n",
    "\n",
    "distance = mock.Distance(1.5)\n",
    "\n",
    "distance"
   ]
  },
  {
   "cell_type": "code",
   "execution_count": 5,
   "metadata": {
    "collapsed": false
   },
   "outputs": [
    {
     "data": {
      "image/png": "[encoded data removed]",
      "text/plain": [
       "<matplotlib.figure.Figure at 0x108b8a438>"
      ]
     },
     "metadata": {},
     "output_type": "display_data"
    }
   ],
   "source": [
    "d = np.arange(0, distance.d_max, 10)\n",
    "z = [distance.redshift(dd) for dd in d]\n",
    "\n",
    "plt.xlabel('$d$')\n",
    "plt.ylabel('$z$')\n",
    "\n",
    "plt.plot(d, z, 'r-')\n",
    "\n",
    "z = np.arange(0, 1.5, 0.1)\n",
    "a = 1/(1 + z)\n",
    "\n",
    "d = [ mock.cosmology_compute_comoving_distance(aa) for aa in a ]\n",
    "\n",
    "plt.plot(d, z, 'x')\n",
    "\n",
    "plt.show();"
   ]
  },
  {
   "cell_type": "code",
   "execution_count": 1,
   "metadata": {
    "collapsed": false
   },
   "outputs": [
    {
     "data": {
      "text/html": [
       "<style>table {float:left}</style>"
      ],
      "text/plain": [
       "<IPython.core.display.HTML object>"
      ]
     },
     "metadata": {},
     "output_type": "display_data"
    }
   ],
   "source": [
    "%%html\n",
    "<style>table {float:left}</style>"
   ]
  }
 ],
 "metadata": {
  "kernelspec": {
   "display_name": "Python 3",
   "language": "python",
   "name": "python3"
  },
  "language_info": {
   "codemirror_mode": {
    "name": "ipython",
    "version": 3
   },
   "file_extension": ".py",
   "mimetype": "text/x-python",
   "name": "python",
   "nbconvert_exporter": "python",
   "pygments_lexer": "ipython3",
   "version": "3.5.1"
  }
 },
 "nbformat": 4,
 "nbformat_minor": 0
}
