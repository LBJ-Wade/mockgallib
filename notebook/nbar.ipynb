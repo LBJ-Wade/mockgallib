{
 "cells": [
  {
   "cell_type": "markdown",
   "metadata": {},
   "source": [
    "# Nbar module\n",
    "\n",
    "Computes mean HOD galaxy number density $\\bar{n}(z)$,\n",
    "\n",
    "$$\n",
    "  \\bar{n}(z) = \\int_0^\\infty n_\\mathrm{cen} (1 + n_\\mathrm{sat}) \\frac{dn(M, z)}{dM} dM\n",
    "$$\n",
    "\n",
    "Related: \n",
    "[PowerSpectrum](http://localhost:4000/codes/mockgallib/notebook/power_spectrum.html),\n",
    "[Hod](http://junkoda.github.io/codes/mockgallib/notebook/hod.html),\n",
    "[MassFunction](http://junkoda.github.io/codes/mockgallib/notebook/mass_function.html).\n",
    "\n",
    "nbar = **Nbar**(*PowerSpectrum*, *Hod*)\n",
    "\n",
    "Operation | Result\n",
    "------------ | -------------\n",
    "nbar(z)      | $\\bar{n}(z)$ at redshift $z$"
   ]
  },
  {
   "cell_type": "code",
   "execution_count": 1,
   "metadata": {
    "collapsed": false
   },
   "outputs": [
    {
     "data": {
      "text/plain": [
       "nbar integration object"
      ]
     },
     "execution_count": 1,
     "metadata": {},
     "output_type": "execute_result"
    }
   ],
   "source": [
    "%matplotlib inline\n",
    "import numpy as np\n",
    "import matplotlib.pyplot as plt\n",
    "import mockgallib as mock\n",
    "\n",
    "mock.cosmology_set(0.31) # set omega_m\n",
    "ps = mock.PowerSpectrum('../data/planck1_matterpower.dat') # power spectrum is required to compute mass function\n",
    "hod = mock.Hod()\n",
    "\n",
    "nbar = mock.Nbar(ps, hod)\n",
    "\n",
    "nbar"
   ]
  },
  {
   "cell_type": "code",
   "execution_count": 3,
   "metadata": {
    "collapsed": false
   },
   "outputs": [
    {
     "name": "stdout",
     "output_type": "stream",
     "text": [
      "HOD coef= [12.0, 1.0, 0.0, 0.0, 1.0, 0.0, 13.0, 0.0, 1.5, 0.0]\n"
     ]
    },
    {
     "data": {
      "image/png": "[encoded data removed]",
      "text/plain": [
       "<matplotlib.figure.Figure at 0x1132effd0>"
      ]
     },
     "metadata": {},
     "output_type": "display_data"
    }
   ],
   "source": [
    "# See hod.ipynb for HOD parameterisation\n",
    "hod.set_coef([12.0, 1.0, 0, 0, 1.0, 0, 13.0, 0, 1.5, 0])\n",
    "print(hod)\n",
    "\n",
    "z = np.arange(0.4, 1.2, 0.01)\n",
    "n = [nbar(zz) for zz in z]\n",
    "\n",
    "#plt.yscale('log')\n",
    "plt.xlabel('$z$')\n",
    "plt.ylabel('$\\\\bar{n}$')\n",
    "\n",
    "plt.plot(z, n, 'r-');"
   ]
  },
  {
   "cell_type": "code",
   "execution_count": 2,
   "metadata": {
    "collapsed": false
   },
   "outputs": [
    {
     "data": {
      "text/html": [
       "<style>table {float:left}</style>"
      ],
      "text/plain": [
       "<IPython.core.display.HTML object>"
      ]
     },
     "metadata": {},
     "output_type": "display_data"
    }
   ],
   "source": [
    "%%html\n",
    "<style>table {float:left}</style>"
   ]
  }
 ],
 "metadata": {
  "kernelspec": {
   "display_name": "Python 3",
   "language": "python",
   "name": "python3"
  },
  "language_info": {
   "codemirror_mode": {
    "name": "ipython",
    "version": 3
   },
   "file_extension": ".py",
   "mimetype": "text/x-python",
   "name": "python",
   "nbconvert_exporter": "python",
   "pygments_lexer": "ipython3",
   "version": "3.5.1"
  }
 },
 "nbformat": 4,
 "nbformat_minor": 0
}
