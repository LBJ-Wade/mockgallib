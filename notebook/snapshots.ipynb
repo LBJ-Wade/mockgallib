{
 "cells": [
  {
   "cell_type": "markdown",
   "metadata": {},
   "source": [
    "# Snapshots\n",
    "\n",
    "Snapshots object stores the information how a lightcone is build from snapshots\n",
    "\n",
    "snapshots = **Snapshots**()\n",
    "\n",
    "snapshot.**insert**(*filename_fof*, *filename_halo_mass*, [*a_snp*, *a_min*, *a_max*])\n",
    "\n",
    "Argument             | Explaination\n",
    "------------         | -------------\n",
    "*filename_fof*       | Filename of the halo catalogue at *a_snp*\n",
    "*filename_halo_mass* | Filename for the nfof - halo_mass calibration\n",
    "*a_min*, *a_max*     | Range of scale factor used for a lightcone\n"
   ]
  },
  {
   "cell_type": "markdown",
   "metadata": {},
   "source": [
    "Method         | Result\n",
    "------------   | -------------\n",
    "len(snapshots) | Number of snapshots inserted\n",
    "snapshot[*i*]  | A tuple (*filename_fof*, *a_snp*, *a_min*, *a_max*) for *i* the snapshot"
   ]
  },
  {
   "cell_type": "code",
   "execution_count": 1,
   "metadata": {
    "collapsed": false
   },
   "outputs": [
    {
     "name": "stdout",
     "output_type": "stream",
     "text": [
      "snapshot data in param.json\n"
     ]
    },
    {
     "data": {
      "text/plain": [
       "[{'a': [0.45, 0.452, 0.475], 'abc': 'a'},\n",
       " {'a': [0.5, 0.475, 0.525], 'abc': 'b'},\n",
       " {'a': [0.55, 0.525, 0.575], 'abc': 'c'},\n",
       " {'a': [0.6, 0.575, 0.625], 'abc': 'd'},\n",
       " {'a': [0.65, 0.625, 0.675], 'abc': 'e'},\n",
       " {'a': [0.7, 0.675, 0.72], 'abc': 'f'}]"
      ]
     },
     "execution_count": 1,
     "metadata": {},
     "output_type": "execute_result"
    }
   ],
   "source": [
    "import json\n",
    "import mockgallib as mock\n",
    "\n",
    "# Snapshot data are written in ../data/param.json file\n",
    "with open('../data/param.json', 'r') as f:\n",
    "    param = json.load(f)\n",
    "\n",
    "print('snapshot data in param.json')\n",
    "param['snapshots']"
   ]
  },
  {
   "cell_type": "code",
   "execution_count": 3,
   "metadata": {
    "collapsed": false
   },
   "outputs": [
    {
     "name": "stdout",
     "output_type": "stream",
     "text": [
      "6\n",
      "('../data/fof/a/fof06100a', 0.45, 0.452, 0.475)\n",
      "('../data/fof/b/fof06100b', 0.5, 0.475, 0.525)\n",
      "('../data/fof/c/fof06100c', 0.55, 0.525, 0.575)\n",
      "('../data/fof/d/fof06100d', 0.6, 0.575, 0.625)\n",
      "('../data/fof/e/fof06100e', 0.65, 0.625, 0.675)\n",
      "('../data/fof/f/fof06100f', 0.7, 0.675, 0.72)\n"
     ]
    }
   ],
   "source": [
    "snapshots = mock.Snapshots()\n",
    "\n",
    "for snp in param['snapshots']:\n",
    "    abc = snp['abc']\n",
    "    filename_fof = '../data/fof/%s/fof06100%s' % (abc, abc)\n",
    "    filename_halo_mass = '../data/halo_mass/halomass_%s.txt' % abc\n",
    "\n",
    "    snapshots.insert(filename_fof, filename_halo_mass, snp['a'])\n",
    "\n",
    "    \n",
    "print(len(snapshots))\n",
    "    \n",
    "for snp in snapshots:\n",
    "    print(snp)"
   ]
  },
  {
   "cell_type": "code",
   "execution_count": 4,
   "metadata": {
    "collapsed": false
   },
   "outputs": [
    {
     "data": {
      "text/html": [
       "<style>table {float:left}</style>"
      ],
      "text/plain": [
       "<IPython.core.display.HTML object>"
      ]
     },
     "metadata": {},
     "output_type": "display_data"
    }
   ],
   "source": [
    "%%html\n",
    "<style>table {float:left}</style>"
   ]
  }
 ],
 "metadata": {
  "kernelspec": {
   "display_name": "Python 3",
   "language": "python",
   "name": "python3"
  },
  "language_info": {
   "codemirror_mode": {
    "name": "ipython",
    "version": 3
   },
   "file_extension": ".py",
   "mimetype": "text/x-python",
   "name": "python",
   "nbconvert_exporter": "python",
   "pygments_lexer": "ipython3",
   "version": "3.5.1"
  }
 },
 "nbformat": 4,
 "nbformat_minor": 0
}
