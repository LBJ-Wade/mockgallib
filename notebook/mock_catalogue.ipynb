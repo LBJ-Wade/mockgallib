{
 "cells": [
  {
   "cell_type": "markdown",
   "metadata": {},
   "source": [
    "# Catalogues module\n",
    "\n",
    "Populates halo lightcones with HOD galaxies\n",
    "\n",
    "Related:\n",
    "[Hod](http://junkoda.github.io/codes/mockgallib/notebook/hod.html),\n",
    "\n",
    "cats = **Catalogues**()\n",
    "\n",
    "Operation | Result\n",
    "---------------- | -------------\n",
    "cats.generate(*Hod*, *LightCones*, *z_min*, *z_max*) | mock catalogues\n",
    "len(cats) | number of catalogues\n",
    "cats[i]   | *i*th catalogue"
   ]
  },
  {
   "cell_type": "code",
   "execution_count": 10,
   "metadata": {
    "collapsed": false
   },
   "outputs": [
    {
     "name": "stdout",
     "output_type": "stream",
     "text": [
      "HOD coef= [12.0, 0.5, 0.0, 0.0, 1.0, 0.0, 13.0, 0.0, 1.5, 0.0]\n"
     ]
    }
   ],
   "source": [
    "%matplotlib inline\n",
    "import numpy as np\n",
    "import matplotlib.pyplot as plt\n",
    "import mockgallib as mock\n",
    "\n",
    "mock.cosmology_set(0.31) # set omega_m\n",
    "hod = mock.Hod()\n",
    "hod.set_coef([12.0, 0.5, 0, 0, 1.0, 0.0, 13.0, 0.0, 1.5, 0.0])\n",
    "print(hod)\n",
    "\n",
    "lightcones = mock.LightCones()\n",
    "lightcones.load(['../data/halo_lightcone_mini.h5'])\n",
    "\n",
    "cats = mock.Catalogues()\n",
    "cats.generate(hod, lightcones, 0.4, 1.2)\n"
   ]
  },
  {
   "cell_type": "markdown",
   "metadata": {},
   "source": [
    "Each catalogue *cats[i]* is an np-array with 8 columns\n",
    "- Column 1-3: *x*[3] position\n",
    "- Column 4:    z     redshift\n",
    "- Column 5:    vr    radial velocity\n",
    "- Column 6-7:  ra, dec\n",
    "- Column 8:    weight = 1    "
   ]
  },
  {
   "cell_type": "code",
   "execution_count": 23,
   "metadata": {
    "collapsed": false
   },
   "outputs": [
    {
     "data": {
      "image/png": "[encoded data removed]",
      "text/plain": [
       "<matplotlib.figure.Figure at 0x10e03cc50>"
      ]
     },
     "metadata": {},
     "output_type": "display_data"
    }
   ],
   "source": [
    "cat = cats[0]\n",
    "\n",
    "plt.figure(figsize = [8,2])\n",
    "plt.xlabel('$x$')\n",
    "plt.ylabel('$y$')\n",
    "\n",
    "plt.plot(cat[:,0], cat[:,1], 'r.');\n"
   ]
  },
  {
   "cell_type": "code",
   "execution_count": 2,
   "metadata": {
    "collapsed": false
   },
   "outputs": [
    {
     "data": {
      "text/html": [
       "<style>table {float:left}</style>"
      ],
      "text/plain": [
       "<IPython.core.display.HTML object>"
      ]
     },
     "metadata": {},
     "output_type": "display_data"
    }
   ],
   "source": [
    "%%html\n",
    "<style>table {float:left}</style>"
   ]
  }
 ],
 "metadata": {
  "kernelspec": {
   "display_name": "Python 3",
   "language": "python",
   "name": "python3"
  },
  "language_info": {
   "codemirror_mode": {
    "name": "ipython",
    "version": 3
   },
   "file_extension": ".py",
   "mimetype": "text/x-python",
   "name": "python",
   "nbconvert_exporter": "python",
   "pygments_lexer": "ipython3",
   "version": "3.5.1"
  }
 },
 "nbformat": 4,
 "nbformat_minor": 0
}
