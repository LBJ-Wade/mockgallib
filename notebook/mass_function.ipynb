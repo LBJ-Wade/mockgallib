{
 "cells": [
  {
   "cell_type": "markdown",
   "metadata": {},
   "source": [
    "# Mass Function module\n",
    "\n",
    "MassFunction provides mass function,\n",
    "$$\n",
    "  \\frac{dn}{d\\ln M} = f(\\nu) \\frac{M}{\\rho_m}\n",
    "$$\n",
    "where,\n",
    "$$\n",
    "  \\nu = \\frac{\\delta_c}{D(z) \\sigma_0(M)}\n",
    "$$\n",
    "using [Tinker et al., 2010, *ApJ*, **724**, 878](http://adsabs.harvard.edu/abs/2010ApJ...724..878T).\n",
    "\n",
    "`MassFunction` class requre `Sigma` object,\n",
    "```\n",
    "  mf = mock.MassFunction(s)\n",
    "```\n",
    "and `Sigma` object requires `PowerSpectrum` object,\n",
    "```\n",
    "  s = mock.Sigma(ps)\n",
    "  ps = mock.PowerSpectrum('../data/planck1_matterpower.dat')\n",
    "```\n",
    "\n",
    "mf = **MassFunction**(Sigma)\n",
    "\n",
    "Operation      | Result\n",
    "------------   | -------------------------------------------------\n",
    "mf.dndlnM(*M*, *z*) | Mass function $dn/d\\ln M [(h^{-1} \\mathrm{Mpc})^{-3}]$ at redshift $z$\n"
   ]
  },
  {
   "cell_type": "code",
   "execution_count": 1,
   "metadata": {
    "collapsed": false
   },
   "outputs": [],
   "source": [
    "%matplotlib inline\n",
    "\n",
    "import math\n",
    "import numpy as np\n",
    "import matplotlib.pyplot as plt\n",
    "import mockgallib as mock\n",
    "\n",
    "mock.cosmology_set(0.31) # set omega_m\n",
    "ps = mock.PowerSpectrum('../data/planck1_matterpower.dat')\n",
    "s = mock.Sigma(ps)\n",
    "mf = mock.MassFunction(s)"
   ]
  },
  {
   "cell_type": "code",
   "execution_count": 2,
   "metadata": {
    "collapsed": false
   },
   "outputs": [
    {
     "data": {
      "text/plain": [
       "[<matplotlib.lines.Line2D at 0x1104437b8>]"
      ]
     },
     "execution_count": 2,
     "metadata": {},
     "output_type": "execute_result"
    },
    {
     "data": {
      "image/png": "[encoded data removed]",
      "text/plain": [
       "<matplotlib.figure.Figure at 0x10ff54eb8>"
      ]
     },
     "metadata": {},
     "output_type": "display_data"
    }
   ],
   "source": [
    "logMmin = math.log(s.M_range[0])\n",
    "logMmax = math.log(s.M_range[1])\n",
    "\n",
    "z=0\n",
    "M = np.exp(np.arange(logMmin, logMmax, 0.1))\n",
    "dndlnM = [mf.dndlnM(mm, z) for mm in M]\n",
    "\n",
    "plt.xscale('log')\n",
    "plt.yscale('log')\n",
    "plt.xlabel('$M$')\n",
    "plt.ylabel('$dn/d\\ln M$')\n",
    "\n",
    "plt.plot(M, dndlnM, 'r-')"
   ]
  },
  {
   "cell_type": "code",
   "execution_count": 1,
   "metadata": {
    "collapsed": false
   },
   "outputs": [
    {
     "data": {
      "text/html": [
       "<style>table {float:left}</style>"
      ],
      "text/plain": [
       "<IPython.core.display.HTML object>"
      ]
     },
     "metadata": {},
     "output_type": "display_data"
    }
   ],
   "source": [
    "%%html\n",
    "<style>table {float:left}</style>"
   ]
  }
 ],
 "metadata": {
  "kernelspec": {
   "display_name": "Python 3",
   "language": "python",
   "name": "python3"
  },
  "language_info": {
   "codemirror_mode": {
    "name": "ipython",
    "version": 3
   },
   "file_extension": ".py",
   "mimetype": "text/x-python",
   "name": "python",
   "nbconvert_exporter": "python",
   "pygments_lexer": "ipython3",
   "version": "3.5.1"
  }
 },
 "nbformat": 4,
 "nbformat_minor": 0
}
